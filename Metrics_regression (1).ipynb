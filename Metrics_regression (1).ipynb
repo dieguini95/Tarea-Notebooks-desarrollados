{
  "cells": [
    {
      "cell_type": "markdown",
      "metadata": {
        "id": "N1h_VCTX61-b"
      },
      "source": [
        "<a href=\"https://colab.research.google.com/github/jmvazqueznicolas/AI_and_DS_Tec2023/blob/main/Metrics_regression.ipynb\" target=\"_parent\"><img src=\"https://colab.research.google.com/assets/colab-badge.svg\" alt=\"Open In Colab\"/></a>"
      ]
    },
    {
      "cell_type": "markdown",
      "metadata": {
        "id": "djh6vTm2BnEN"
      },
      "source": [
        "# Regression Metrics"
      ]
    },
    {
      "cell_type": "markdown",
      "metadata": {
        "id": "qm8RkIXllGKH"
      },
      "source": [
        "## Mean Squared Error (MSE)\n"
      ]
    },
    {
      "cell_type": "code",
      "execution_count": null,
      "metadata": {
        "id": "U30tlATz4cdL"
      },
      "outputs": [],
      "source": [
        "# Import necessary libraries\n",
        "from sklearn.datasets import load_diabetes\n",
        "from sklearn.model_selection import train_test_split\n",
        "from sklearn.linear_model import LinearRegression, Ridge\n",
        "from sklearn.ensemble import RandomForestRegressor\n",
        "from sklearn.metrics import mean_squared_error\n",
        "\n",
        "# Load the diabetes dataset\n",
        "diabetes = load_diabetes()\n",
        "X, y = diabetes.data, diabetes.target\n",
        "\n",
        "# Split the data into training and testing sets\n",
        "X_train, X_test, y_train, y_test = train_test_split(X,\n",
        "                                                    y,\n",
        "                                                    test_size=0.2,\n",
        "                                                    random_state=42)\n",
        "\n",
        "# Create models\n",
        "models = {\n",
        "    \"Linear Regression\": LinearRegression(),\n",
        "    \"Ridge\": Ridge(),\n",
        "    \"Random Forest\": RandomForestRegressor(random_state=42)\n",
        "}\n",
        "\n",
        "# Train the models and compute MSE\n",
        "for name, model in models.items():\n",
        "    model.fit(X_train, y_train)\n",
        "    y_pred = model.predict(X_test)\n",
        "    mse = mean_squared_error(y_test, y_pred)\n",
        "    print(f\"{name} - Mean Squared Error: {mse:.2f}\")"
      ]
    },
    {
      "cell_type": "markdown",
      "metadata": {
        "id": "AvuGIZA1lJwM"
      },
      "source": [
        "## Mean Absolute Error (MAE)"
      ]
    },
    {
      "cell_type": "code",
      "execution_count": null,
      "metadata": {
        "id": "GRiRF-QaPec5"
      },
      "outputs": [],
      "source": [
        "# Import necessary libraries\n",
        "import numpy as np\n",
        "import matplotlib.pyplot as plt\n",
        "from sklearn.model_selection import train_test_split\n",
        "from sklearn.metrics import mean_absolute_error\n",
        "\n",
        "# Importing various regression models\n",
        "from sklearn.linear_model import LinearRegression, Ridge, Lasso\n",
        "from sklearn.datasets import load_diabetes\n",
        "\n",
        "# Load the diabetes dataset\n",
        "data = load_diabetes()\n",
        "X = data.data[:, np.newaxis, 2]  # Using only the 'bmi' feature\n",
        "y = data.target\n",
        "\n",
        "# Split data into training and test sets\n",
        "X_train, X_test, y_train, y_test = train_test_split(X, y, test_size=0.2, random_state=42)\n",
        "\n",
        "# Create a dictionary of different regression models\n",
        "models = {\n",
        "    \"Linear Regression\": LinearRegression(),\n",
        "    \"Ridge\": Ridge(),\n",
        "    \"Lasso\": Lasso(),\n",
        "}\n",
        "\n",
        "# Plot the true data points (using scatter function)\n",
        "plt.scatter(X_test, y_test, color='black', s=20, marker='o', label='true values')\n",
        "\n",
        "# Plot model predictions\n",
        "for name, model in models.items():\n",
        "    model.fit(X_train, y_train)  # Train model\n",
        "    predictions = model.predict(X_test)  # Make predictions\n",
        "\n",
        "    plt.plot(X_test, predictions, label=name)  # Using plot function\n",
        "\n",
        "    # Print MAE for each model\n",
        "    mae = mean_absolute_error(y_test, predictions)\n",
        "    print(f\"{name}: MAE = {mae:.2f}\")\n",
        "\n",
        "plt.xlabel('BMI')\n",
        "plt.ylabel('Progression')\n",
        "plt.title('Regression Model Fits')\n",
        "plt.legend()\n",
        "plt.show()\n"
      ]
    },
    {
      "cell_type": "markdown",
      "metadata": {
        "id": "wLeLy95jlSIs"
      },
      "source": [
        "## Root Mean Squared Error (RMSE)\n"
      ]
    },
    {
      "cell_type": "code",
      "execution_count": null,
      "metadata": {
        "id": "46YmaY0gxiQl"
      },
      "outputs": [],
      "source": [
        "# Load the dataset\n",
        "from sklearn.datasets import load_diabetes\n",
        "from sklearn.tree import DecisionTreeRegressor\n",
        "\n",
        "data = load_diabetes()\n",
        "X, y = data.data, data.target\n",
        "\n",
        "# Split the data into training and test sets\n",
        "X_train, X_test, y_train, y_test = train_test_split(X, y, test_size=0.3, random_state=42)\n",
        "\n",
        "# Create a list of regression models\n",
        "models = [\n",
        "    ('Linear Regression', LinearRegression()),\n",
        "    ('Decision Tree', DecisionTreeRegressor(random_state=42)),\n",
        "    ('Random Forest', RandomForestRegressor(random_state=42))\n",
        "]\n",
        "\n",
        "rmse_scores = []\n",
        "\n",
        "# Train each model and calculate RMSE\n",
        "for name, model in models:\n",
        "    model.fit(X_train, y_train)\n",
        "    predictions = model.predict(X_test)\n",
        "    rmse = np.sqrt(mean_squared_error(y_test, predictions))\n",
        "    rmse_scores.append((name, rmse))\n",
        "    print(f'{name} RMSE: {rmse:.2f}')\n",
        "\n",
        "# Plotting\n",
        "names, scores = zip(*rmse_scores)\n",
        "plt.bar(names, scores)\n",
        "plt.ylabel('RMSE')\n",
        "plt.title('Model RMSE Comparisons')\n",
        "plt.show()\n"
      ]
    },
    {
      "cell_type": "markdown",
      "metadata": {
        "id": "vRYLnmFslX2V"
      },
      "source": [
        "## Coefficient of Determination R²\n"
      ]
    },
    {
      "cell_type": "code",
      "execution_count": null,
      "metadata": {
        "id": "TLH_uyEYyB3D"
      },
      "outputs": [],
      "source": [
        "# Load the dataset\n",
        "data = load_diabetes()\n",
        "X, y = data.data, data.target\n",
        "\n",
        "# Split the data into training and test sets\n",
        "X_train, X_test, y_train, y_test = train_test_split(X, y, test_size=0.3, random_state=42)\n",
        "\n",
        "# Create a list of regression models\n",
        "models = [\n",
        "    ('Linear Regression', LinearRegression()),\n",
        "    ('Decision Tree', DecisionTreeRegressor(random_state=42)),\n",
        "    ('Random Forest', RandomForestRegressor(random_state=42))\n",
        "]\n",
        "\n",
        "r2_scores = []\n",
        "\n",
        "# Train each model and calculate R^2 score\n",
        "for name, model in models:\n",
        "    model.fit(X_train, y_train)\n",
        "    r2 = model.score(X_test, y_test)\n",
        "    r2_scores.append((name, r2))\n",
        "    print(f'{name} R^2 Score: {r2:.2f}')\n",
        "\n",
        "# Plotting\n",
        "names, scores = zip(*r2_scores)\n",
        "plt.scatter(names, scores, color='blue', s=100)  # Scatter plot\n",
        "plt.axhline(0, color='red', linestyle='--')  # Draw a horizontal line at R^2 = 0\n",
        "plt.ylabel('R^2 Score')\n",
        "plt.title('Model R^2 Score Comparisons')\n",
        "plt.ylim(min(scores) - 0.1, 1)  # Setting the y-axis limits to be slightly below the minimum R^2 score and up to 1\n",
        "plt.show()\n"
      ]
    },
    {
      "cell_type": "markdown",
      "metadata": {
        "id": "tCVgD0dFldtE"
      },
      "source": [
        "## Mean Absolute Percentage Error (MAPE)\n"
      ]
    },
    {
      "cell_type": "code",
      "execution_count": null,
      "metadata": {
        "id": "Lku5hMs3kMxc"
      },
      "outputs": [],
      "source": [
        "# Load the diabetes dataset\n",
        "from sklearn.svm import SVR\n",
        "data = load_diabetes()\n",
        "X, y = data.data, data.target\n",
        "\n",
        "# Split the dataset\n",
        "X_train, X_test, y_train, y_test = train_test_split(X, y, test_size=0.2, random_state=42)\n",
        "\n",
        "# Define MAPE function\n",
        "def mean_absolute_percentage_error(y_true, y_pred):\n",
        "    y_true, y_pred = np.array(y_true), np.array(y_pred)\n",
        "    non_zero_indices = y_true != 0  # Avoid division by zero\n",
        "    return np.mean(np.abs((y_true[non_zero_indices] - y_pred[non_zero_indices]) / y_true[non_zero_indices])) * 100\n",
        "\n",
        "# List of models to evaluate\n",
        "models = [\n",
        "    ('Linear Regression', LinearRegression()),\n",
        "    ('Ridge', Ridge()),\n",
        "    ('Lasso', Lasso()),\n",
        "    ('Decision Tree', DecisionTreeRegressor()),\n",
        "    ('Random Forest', RandomForestRegressor(random_state=42)),\n",
        "    ('SVR', SVR())\n",
        "]\n",
        "\n",
        "mape_scores = []\n",
        "\n",
        "# Train and evaluate each model\n",
        "for name, model in models:\n",
        "    model.fit(X_train, y_train)\n",
        "    predictions = model.predict(X_test)\n",
        "    mape = mean_absolute_percentage_error(y_test, predictions)\n",
        "    mape_scores.append((name, mape))\n",
        "\n",
        "# Plotting\n",
        "names, scores = zip(*mape_scores)\n",
        "plt.bar(names, scores, color='skyblue')\n",
        "plt.ylabel('MAPE (%)')\n",
        "plt.title('Model MAPE Comparisons')\n",
        "plt.xticks(rotation=45)\n",
        "plt.show()"
      ]
    },
    {
      "cell_type": "markdown",
      "metadata": {
        "id": "3vifJuDQlnN3"
      },
      "source": [
        "## Root Mean Squared Logarithmic Error (RMSLE)\n"
      ]
    },
    {
      "cell_type": "code",
      "execution_count": 2,
      "metadata": {
        "id": "aQeKP32AkbRZ",
        "colab": {
          "base_uri": "https://localhost:8080/",
          "height": 535
        },
        "outputId": "06428d76-f46e-4de7-e3a5-6cf8f436c2bc"
      },
      "outputs": [
        {
          "output_type": "display_data",
          "data": {
            "text/plain": [
              "<Figure size 640x480 with 1 Axes>"
            ],
            "image/png": "[encoded data removed]"
          },
          "metadata": {}
        }
      ],
      "source": [
        "# Import necessary libraries\n",
        "import numpy as np\n",
        "import matplotlib.pyplot as plt\n",
        "from sklearn.datasets import load_diabetes\n",
        "from sklearn.model_selection import train_test_split\n",
        "from sklearn.linear_model import LinearRegression, Ridge, Lasso\n",
        "from sklearn.tree import DecisionTreeRegressor\n",
        "from sklearn.ensemble import RandomForestRegressor\n",
        "from sklearn.svm import SVR\n",
        "from sklearn.metrics import mean_squared_log_error\n",
        "\n",
        "# Load the diabetes dataset\n",
        "data = load_diabetes()\n",
        "X, y = data.data, data.target\n",
        "\n",
        "X_train, X_test, y_train, y_test = train_test_split(X, y, test_size=0.2, random_state=42)\n",
        "\n",
        "# Define RMSLE function\n",
        "def root_mean_squared_log_error(y_true, y_pred):\n",
        "    # Ensure predictions are positive (clip at a very small positive value)\n",
        "    y_pred = np.clip(y_pred, 1e-10, np.inf)\n",
        "    return np.sqrt(mean_squared_log_error(y_true, y_pred))\n",
        "\n",
        "# List of models to evaluate\n",
        "models = [\n",
        "    ('Linear Regression', LinearRegression()),\n",
        "    ('Ridge', Ridge()),\n",
        "    ('Lasso', Lasso()),\n",
        "    ('Decision Tree', DecisionTreeRegressor(random_state=42)),\n",
        "    ('Random Forest', RandomForestRegressor(random_state=42)),\n",
        "    ('SVR', SVR())\n",
        "]\n",
        "\n",
        "rmsle_scores = []\n",
        "\n",
        "# Train and evaluate each model\n",
        "for name, model in models:\n",
        "    model.fit(X_train, y_train)\n",
        "    predictions = model.predict(X_test)\n",
        "    rmsle = root_mean_squared_log_error(y_test, predictions)\n",
        "    rmsle_scores.append((name, rmsle))\n",
        "\n",
        "# Plotting\n",
        "names, scores = zip(*rmsle_scores)\n",
        "plt.bar(names, scores, color='salmon')\n",
        "plt.ylabel('RMSLE')\n",
        "plt.title('Model RMSLE Comparisons')\n",
        "plt.xticks(rotation=45)\n",
        "plt.show()\n"
      ]
    }
  ],
  "metadata": {
    "colab": {
      "provenance": []
    },
    "kernelspec": {
      "display_name": "Python 3",
      "name": "python3"
    },
    "language_info": {
      "name": "python"
    }
  },
  "nbformat": 4,
  "nbformat_minor": 0
}